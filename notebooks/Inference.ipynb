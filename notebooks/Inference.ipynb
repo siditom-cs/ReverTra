{
  "nbformat": 4,
  "nbformat_minor": 0,
  "metadata": {
    "colab": {
      "provenance": []
    },
    "kernelspec": {
      "name": "python3",
      "display_name": "Python 3"
    },
    "language_info": {
      "name": "python"
    }
  },
  "cells": [
    {
      "cell_type": "markdown",
      "source": [
        "## **ReverTra - Reverse Translation with Transformers**\n",
        "\n",
        "---\n",
        "\n",
        "\\\n",
        "This is an inference script for using the models from the paper [ref]. \\\n",
        "The models are built on the BART architecture from the Huggingface platform, and the training procedure and algorithms are depicted in the paper. \\\n",
        "Github code with full training code and data can be found at: https://github.com/siditom-cs/ReverTra. \\\n",
        "\n",
        "This script accomodates the two inference types with BART models depicted in the paper: (a) only the target amino-acid sequence; and (b) alignment of the target amino-acid sequence with an additional codon sequence.\n",
        "\n",
        "This script also offers an option to include accuracy and perplexity calculation given the original codon target sequence is present.  calculating accuracy and loss for a specific sequence generation, we offer an option to include the targe codon sequence and get the statistics.\n",
        "\n",
        "**Available models:**\n",
        "\n",
        "**[Mimic]**\n",
        "1. Finetuned twice mimic model with fixed-win of size 10: \"siditom/co-model_mimic-rexpr-10w_2ft\" \\\n",
        "2. Finetuned twice mimic model with fixed-win of size 30: \"siditom/co-model_mimic-rexpr-30w_2ft\" \\\n",
        "3. Finetuned twice mimic model with fixed-win of size 50: \"siditom/co-model_mimic-rexpr-50w_2ft\" \\\n",
        "4. Finetuned twice mimic model with fixed-win of size 75: \"siditom/co-model_mimic-rexpr-75w_2ft\" \\\n",
        "5. Finetuned twice mimic model with fixed-win of size 100: \"siditom/co-model_mimic-rexpr-100w_2ft\" \\\n",
        "6. Finetuned twice mimic model with fixed-win of size 150: \"siditom/co-model_mimic-rexpr-150w_2ft\" \\\n",
        "\n",
        "**[Mask]** \\\n",
        "1. Finetuned once mask model with fixed-win of size 10: \"siditom/co-model_mask-rexpr-10w_1ft\" \\\n",
        "2. Finetuned once mask model with fixed-win of size 30: \"siditom/co-model_mask-rexpr-30w_1ft\" \\\n",
        "3. Finetuned once mask model with fixed-win of size 50: \"siditom/co-model_mask-rexpr-50w_1ft\" \\\n",
        "4. Finetuned once mask model with fixed-win of size 75: \"siditom/co-model_mask-rexpr-75w_1ft\" \\\n",
        "5. Finetuned once mask model with fixed-win of size 100: \"siditom/co-model_mask-rexpr-100w_1ft\" \\\n",
        "6. Finetuned once mask model with fixed-win of size 150: \"siditom/co-model_mask-rexpr-150w_1ft\" \\"
      ],
      "metadata": {
        "id": "YRBUNDB-pETK"
      }
    },
    {
      "cell_type": "markdown",
      "source": [
        "# New Section"
      ],
      "metadata": {
        "id": "8xaQZbO4py7W"
      }
    },
    {
      "cell_type": "markdown",
      "source": [
        "Implementation details:\n",
        "---\n",
        "\n",
        "The arguemnts for the predict function below includes a dictionary configuration file with the paramenters needed for the inference:\n",
        "\n",
        "- **sw_aa_size**: window size for generating subsets of predictions - should be the same size as the model was trained on. Options: [10,30,50,75,100,150], see available models.\n",
        "- **inference_type**: 'mimic'/'mask'.\n",
        "- **calc_stats**: False/True. Whether the input includes the target codon sequence for calculating accuracy and perplexity.\n",
        "\n",
        "The input args are also a dictionary with the following keys:\n",
        "- **qseq**: amino-acid sequence of the target sequence.\n",
        "- **query_species**: the traget's host species.\n",
        "- **expr**: the token of the expression level. we enable 6 tokens corresponding for the expression level percentails: 90%-100%, 75%-90%, 50%-75%, 25%-50%, lower than 25%, and unspecified with tokens: [expr_top10, expr_pre75_90, expr_pre50_75, expr_pre25_50, expr_low25, expr_unk], respectively.\n",
        "- **subject_dna_seq**: [Optional] - space delimited codon sequence of the mimic protein. Required for inference_type='mimic'.\n",
        "- **query_dna_seq**: [Optional] - space delimited codon sequence of the target protein. Required for calc_stats=True.\n",
        "- **subject_species**:  [Optional] - the mimic's sequence origin species. Required for inference_type='mimic'.\n",
        "\n"
      ],
      "metadata": {
        "id": "vzB1nDz9Jdl6"
      }
    },
    {
      "cell_type": "code",
      "execution_count": null,
      "metadata": {
        "colab": {
          "base_uri": "https://localhost:8080/"
        },
        "id": "LUQlJd5i_D_B",
        "outputId": "52addd34-8111-4477-94a3-fc42983c89c0"
      },
      "outputs": [
        {
          "output_type": "stream",
          "name": "stdout",
          "text": [
            "Collecting transformers\n",
            "  Downloading transformers-4.35.0-py3-none-any.whl (7.9 MB)\n",
            "\u001b[2K     \u001b[90m━━━━━━━━━━━━━━━━━━━━━━━━━━━━━━━━━━━━━━━━\u001b[0m \u001b[32m7.9/7.9 MB\u001b[0m \u001b[31m59.5 MB/s\u001b[0m eta \u001b[36m0:00:00\u001b[0m\n",
            "\u001b[?25hRequirement already satisfied: filelock in /usr/local/lib/python3.10/dist-packages (from transformers) (3.13.1)\n",
            "Collecting huggingface-hub<1.0,>=0.16.4 (from transformers)\n",
            "  Downloading huggingface_hub-0.18.0-py3-none-any.whl (301 kB)\n",
            "\u001b[2K     \u001b[90m━━━━━━━━━━━━━━━━━━━━━━━━━━━━━━━━━━━━━━━━\u001b[0m \u001b[32m302.0/302.0 kB\u001b[0m \u001b[31m38.2 MB/s\u001b[0m eta \u001b[36m0:00:00\u001b[0m\n",
            "\u001b[?25hRequirement already satisfied: numpy>=1.17 in /usr/local/lib/python3.10/dist-packages (from transformers) (1.23.5)\n",
            "Requirement already satisfied: packaging>=20.0 in /usr/local/lib/python3.10/dist-packages (from transformers) (23.2)\n",
            "Requirement already satisfied: pyyaml>=5.1 in /usr/local/lib/python3.10/dist-packages (from transformers) (6.0.1)\n",
            "Requirement already satisfied: regex!=2019.12.17 in /usr/local/lib/python3.10/dist-packages (from transformers) (2023.6.3)\n",
            "Requirement already satisfied: requests in /usr/local/lib/python3.10/dist-packages (from transformers) (2.31.0)\n",
            "Collecting tokenizers<0.15,>=0.14 (from transformers)\n",
            "  Downloading tokenizers-0.14.1-cp310-cp310-manylinux_2_17_x86_64.manylinux2014_x86_64.whl (3.8 MB)\n",
            "\u001b[2K     \u001b[90m━━━━━━━━━━━━━━━━━━━━━━━━━━━━━━━━━━━━━━━━\u001b[0m \u001b[32m3.8/3.8 MB\u001b[0m \u001b[31m102.7 MB/s\u001b[0m eta \u001b[36m0:00:00\u001b[0m\n",
            "\u001b[?25hCollecting safetensors>=0.3.1 (from transformers)\n",
            "  Downloading safetensors-0.4.0-cp310-cp310-manylinux_2_17_x86_64.manylinux2014_x86_64.whl (1.3 MB)\n",
            "\u001b[2K     \u001b[90m━━━━━━━━━━━━━━━━━━━━━━━━━━━━━━━━━━━━━━━━\u001b[0m \u001b[32m1.3/1.3 MB\u001b[0m \u001b[31m60.9 MB/s\u001b[0m eta \u001b[36m0:00:00\u001b[0m\n",
            "\u001b[?25hRequirement already satisfied: tqdm>=4.27 in /usr/local/lib/python3.10/dist-packages (from transformers) (4.66.1)\n",
            "Requirement already satisfied: fsspec>=2023.5.0 in /usr/local/lib/python3.10/dist-packages (from huggingface-hub<1.0,>=0.16.4->transformers) (2023.6.0)\n",
            "Requirement already satisfied: typing-extensions>=3.7.4.3 in /usr/local/lib/python3.10/dist-packages (from huggingface-hub<1.0,>=0.16.4->transformers) (4.5.0)\n",
            "Collecting huggingface-hub<1.0,>=0.16.4 (from transformers)\n",
            "  Downloading huggingface_hub-0.17.3-py3-none-any.whl (295 kB)\n",
            "\u001b[2K     \u001b[90m━━━━━━━━━━━━━━━━━━━━━━━━━━━━━━━━━━━━━━━━\u001b[0m \u001b[32m295.0/295.0 kB\u001b[0m \u001b[31m37.5 MB/s\u001b[0m eta \u001b[36m0:00:00\u001b[0m\n",
            "\u001b[?25hRequirement already satisfied: charset-normalizer<4,>=2 in /usr/local/lib/python3.10/dist-packages (from requests->transformers) (3.3.2)\n",
            "Requirement already satisfied: idna<4,>=2.5 in /usr/local/lib/python3.10/dist-packages (from requests->transformers) (3.4)\n",
            "Requirement already satisfied: urllib3<3,>=1.21.1 in /usr/local/lib/python3.10/dist-packages (from requests->transformers) (2.0.7)\n",
            "Requirement already satisfied: certifi>=2017.4.17 in /usr/local/lib/python3.10/dist-packages (from requests->transformers) (2023.7.22)\n",
            "Installing collected packages: safetensors, huggingface-hub, tokenizers, transformers\n",
            "Successfully installed huggingface-hub-0.17.3 safetensors-0.4.0 tokenizers-0.14.1 transformers-4.35.0\n"
          ]
        }
      ],
      "source": [
        "!pip install transformers"
      ]
    },
    {
      "cell_type": "code",
      "source": [
        "from google.colab import drive\n",
        "drive.mount('/content/drive')"
      ],
      "metadata": {
        "id": "JRnVB4Zg_hqu",
        "colab": {
          "base_uri": "https://localhost:8080/"
        },
        "outputId": "96d3aee9-ba9b-47a8-fd01-6e674a0cfaf9"
      },
      "execution_count": null,
      "outputs": [
        {
          "output_type": "stream",
          "name": "stdout",
          "text": [
            "Mounted at /content/drive\n"
          ]
        }
      ]
    },
    {
      "cell_type": "markdown",
      "source": [
        "Import and auxilary functions:\n",
        "---\n",
        "\n",
        "The next cells include the axuxilary and wrapper functions to prepare the raw amino-acid (and/or codon) sequence for the model, and aggregate the model outputs from windows to a single prediction.\n",
        "\n",
        "- **calc_combined_gen_from_sliding_windows_logits**: aggregates the predicted logits for each window in the sequence to a single (N * V) matrix, where N is the size of the amino-acid protein sequence, and V is the size of the vocabulary of the tokenizer.\n",
        "\n",
        "- **predict**: wrapper function that prepares the input sequence and configuration to be model compatible, applies the trained model to each window in the given input sequence, aggregates the predicted logits windows, and calcultes metrics.\n",
        "\n",
        "\n",
        "At the last cell of this section, we download the chosen model and the tokenizer to be applied on the examples below.\n",
        "\n"
      ],
      "metadata": {
        "id": "kXOSct69f03r"
      }
    },
    {
      "cell_type": "code",
      "source": [
        "import torch\n",
        "from transformers import AutoTokenizer, BartForConditionalGeneration, LogitsWarper\n",
        "from transformers import LogitsProcessor,LogitsProcessorList\n",
        "import numpy as np\n",
        "import json"
      ],
      "metadata": {
        "id": "LJEp-XlizbA0"
      },
      "execution_count": null,
      "outputs": []
    },
    {
      "cell_type": "code",
      "source": [
        "class RestrictToAaLogitsWarper(LogitsWarper):\n",
        "    def __init__(self, masked_input_ids: torch.LongTensor, restrict_dict: dict, filter_value: float = -float(\"Inf\"), min_tokens_to_keep: int = 1):\n",
        "        self.masked_input_ids = masked_input_ids\n",
        "        self.restrict_dict = restrict_dict\n",
        "        self.filter_value = filter_value\n",
        "        self.min_tokens_to_keep = min_tokens_to_keep\n",
        "    def __call__(self, input_ids: torch.LongTensor, scores: torch.FloatTensor) -> torch.FloatTensor:\n",
        "        cur_len = input_ids.shape[-1]-1\n",
        "        vocab_size = scores.shape[-1]\n",
        "        if self.masked_input_ids.shape[-1] <= cur_len:\n",
        "            return scores\n",
        "        for bid in range(input_ids.shape[0]):\n",
        "            cur_mask_input = str(int(self.masked_input_ids[bid][cur_len].item()))\n",
        "            if cur_mask_input in self.restrict_dict.keys():\n",
        "                restricted_words = self.restrict_dict[cur_mask_input]\n",
        "                banned_indices = set(range(vocab_size))-set(self.restrict_dict[cur_mask_input])\n",
        "                banned = torch.tensor([i in banned_indices for i in range(vocab_size)])\n",
        "                scores[bid][banned] = self.filter_value\n",
        "        return scores\n",
        "\n"
      ],
      "metadata": {
        "id": "vnOTaX8B2Y1o"
      },
      "execution_count": null,
      "outputs": []
    },
    {
      "cell_type": "code",
      "source": [
        "def get_expr_token(expr):\n",
        "    if expr==None:\n",
        "        expr = 'expr_unk'\n",
        "    return \"<\"+expr+\"> \"\n",
        "\n",
        "def prepare_inputs(example, tokenizer, config):\n",
        "        #Rename\n",
        "        qaaseq, query_species, sw_aa_size = example['qseq'], example['query_species'],  config['sw_aa_size']\n",
        "        if config['inference_type']=='mimic':\n",
        "          sseq, subject_species = example['subject_dna_seq'].split(\" \"), example['subject_species']\n",
        "        else:\n",
        "          sseq, subject_species = ['<mask_'+aa+'>' if aa!='-' else '<gap>' for aa in qaaseq], example['query_species']\n",
        "\n",
        "\n",
        "        #Prepare fixed-sized windows\n",
        "        query_aa_wins = [qaaseq[i:i+sw_aa_size] for i in range(0,max(1,len(qaaseq)-sw_aa_size+1))]\n",
        "        subject_dna_wins = [\" \".join(sseq[i:i+sw_aa_size]) for i in range(0,max(1,len(qaaseq)-sw_aa_size+1))]\n",
        "        mask_aa_wins = [\"<\"+query_species+\"> \"+\" \".join(['<mask_'+aa+'>' if aa!='-' else '<gap>' for aa in wseq]) for wseq in query_aa_wins]\n",
        "        query_aa_wins = [\"<\"+query_species+\"> \"+get_expr_token(example['expr'])+' '.join(['<mask_'+aa+'>' if aa!='-' else '<gap>' for aa in wseq]) for wseq in query_aa_wins]\n",
        "        subject_dna_wins = [\"<\"+subject_species+\"> \"+wseq for wseq in subject_dna_wins]\n",
        "\n",
        "        #Encode windows\n",
        "        input_ids = tokenizer(query_aa_wins, subject_dna_wins, return_tensors=\"pt\", padding='max_length', max_length=sw_aa_size*2+3).input_ids\n",
        "        masked_ids = tokenizer(mask_aa_wins, return_tensors=\"pt\").input_ids[:,1:-1]\n",
        "        return input_ids,masked_ids\n",
        "\n",
        "def generate_outputs(input_ids, masked_ids, mask_restriction_dict, model, sw_aa_size):\n",
        "        logits_processor = LogitsProcessorList(\n",
        "                [RestrictToAaLogitsWarper(masked_ids, mask_restriction_dict)])\n",
        "\n",
        "        outputs = model.generate(input_ids, do_sample=False, output_scores = True, return_dict_in_generate = True, renormalize_logits = True, logits_processor=logits_processor, max_length=min((sw_aa_size+3),masked_ids.shape[-1]+2))\n",
        "        outputs = torch.stack(outputs['scores'][:sw_aa_size+1],1)\n",
        "        return outputs\n",
        "\n",
        "def calc_combined_gen_from_sliding_windows_logits(sw_logits, seqlen, sw_aa_size):\n",
        "        sw_logits = sw_logits\n",
        "        collect_logits = torch.zeros([seqlen, sw_logits.shape[-1]])\n",
        "        counts = torch.zeros([1,seqlen])\n",
        "        most_freq_pred = torch.zeros([seqlen,1])\n",
        "\n",
        "        #Aggregating (sums) the logits of the different windows. Only the relevant codons (restricted by AA) are sumed.\n",
        "        for i in range(sw_logits.shape[0]): # window num\n",
        "            for j in range(min(sw_aa_size, seqlen)): # sequence len - codon index\n",
        "                collect_logits[i+j, :] += torch.exp(sw_logits[i, 1+j, :])\n",
        "                counts[0,i+j] += 1\n",
        "\n",
        "        #Normalizing each position by the number of predictions (eg. first codon has only one prediction)\n",
        "        for i in range(seqlen):\n",
        "            collect_logits[i,:] /= counts[0,i]\n",
        "        collect_logits = torch.log(collect_logits)\n",
        "        collect_logits = collect_logits.log_softmax(dim=-1)\n",
        "\n",
        "        for i in range(seqlen):\n",
        "            most_freq_pred[i] = torch.argmax(collect_logits[i,:]).item()\n",
        "\n",
        "        return collect_logits, most_freq_pred\n",
        "\n",
        "def predict(config, example, mask_restriction_dict, tokenizer, model):\n",
        "\n",
        "\n",
        "\n",
        "        input_ids, masked_ids = prepare_inputs(example, tokenizer, config)\n",
        "        outputs = generate_outputs(input_ids, masked_ids, mask_restriction_dict, model, config['sw_aa_size'])\n",
        "        logits, most_freq_pred = calc_combined_gen_from_sliding_windows_logits(outputs, len(example['qseq']), config['sw_aa_size'])\n",
        "\n",
        "        ce = torch.nn.CrossEntropyLoss()\n",
        "        most_freq_pred=most_freq_pred.clone().detach().reshape((1,-1))\n",
        "\n",
        "\n",
        "        #print(\"decode: \", tokenizer.decode(most_freq_pred.numpy().astype(int)[0]))\n",
        "        #print(\"truevals: \", tokenizer.decode(true_vals))\n",
        "        res = dict()\n",
        "\n",
        "        res['prot_len'] = len(example['qseq'])\n",
        "        res['prot_AAs'] = example['qseq']\n",
        "        res['pred_codons'] = tokenizer.decode(most_freq_pred.numpy().astype(int)[0])\n",
        "        res['entropy'] = (-torch.nan_to_num(torch.exp(logits)*logits,nan=0.0).sum(dim=-1)).mean().item()\n",
        "\n",
        "        assert(res['prot_len']==len(res['pred_codons'].split(\" \")))\n",
        "\n",
        "        if config['calc_stats'] and 'query_dna_seq' in example.keys():\n",
        "          true_vals = tokenizer(example['query_dna_seq'], return_tensors=\"pt\").input_ids[:,1:-1]\n",
        "          mask = true_vals > 41 #special tokens threshold\n",
        "          true_vals = true_vals.tolist()[0]\n",
        "          masked_most_freq_pred = most_freq_pred.masked_select(mask).numpy().astype(int)\n",
        "          masked_true_vals = torch.tensor(true_vals).masked_select(mask).numpy().astype(int)\n",
        "\n",
        "          res['subject_codons'] = example['subject_dna_seq']\n",
        "          res['num_of_correct_predicted_codons'] = sum([int(x==y) for x,y in zip(masked_true_vals, masked_most_freq_pred)])\n",
        "          res['query_codons'] = example['query_dna_seq']\n",
        "          res['cross_entropy_loss'] = ce(logits, torch.tensor(true_vals)).item()\n",
        "          res['perplexity'] = np.exp(res['cross_entropy_loss'])\n",
        "          res['accuracy'] = res['num_of_correct_predicted_codons'] / res['prot_len']\n",
        "        #print(example['qseqid'], example['sseqid'],res['cross_entropy_loss'], res['entropy'],res['accuracy'])\n",
        "        return res"
      ],
      "metadata": {
        "id": "UaHH3ZKly7BD"
      },
      "execution_count": null,
      "outputs": []
    },
    {
      "cell_type": "code",
      "source": [
        "tokenizer = AutoTokenizer.from_pretrained('siditom/tokenizer-codon_optimization-refined_expr')\n",
        "!wget https://huggingface.co/siditom/tokenizer-codon_optimization-refined_expr/resolve/main/mask_restrict_dict.json\n",
        "mask_restrict_dict = {}\n",
        "with open('/content/mask_restrict_dict.json','r') as handle:\n",
        "  mask_restrict_dict = json.load(handle)\n",
        "model = BartForConditionalGeneration.from_pretrained(\"siditom/co-model_mimic-rexpr-50w_2ft\")\n"
      ],
      "metadata": {
        "id": "GcSdzMdvyXaz",
        "colab": {
          "base_uri": "https://localhost:8080/"
        },
        "outputId": "6e236f94-e11c-4426-d019-672bbad81695"
      },
      "execution_count": null,
      "outputs": [
        {
          "output_type": "stream",
          "name": "stdout",
          "text": [
            "--2023-11-08 13:59:37--  https://huggingface.co/siditom/tokenizer-codon_optimization-refined_expr/resolve/main/mask_restrict_dict.json\n",
            "Resolving huggingface.co (huggingface.co)... 18.164.174.118, 18.164.174.17, 18.164.174.55, ...\n",
            "Connecting to huggingface.co (huggingface.co)|18.164.174.118|:443... connected.\n",
            "HTTP request sent, awaiting response... 200 OK\n",
            "Length: 1457 (1.4K) [text/plain]\n",
            "Saving to: ‘mask_restrict_dict.json.2’\n",
            "\n",
            "\r          mask_rest   0%[                    ]       0  --.-KB/s               \rmask_restrict_dict. 100%[===================>]   1.42K  --.-KB/s    in 0s      \n",
            "\n",
            "2023-11-08 13:59:37 (720 MB/s) - ‘mask_restrict_dict.json.2’ saved [1457/1457]\n",
            "\n"
          ]
        }
      ]
    },
    {
      "cell_type": "markdown",
      "source": [
        "## **Example 1 - mimic codon sequence generation**"
      ],
      "metadata": {
        "id": "3oWUZPVFjjd3"
      }
    },
    {
      "cell_type": "code",
      "source": [
        "\n",
        "config = {\n",
        "    'sw_aa_size':50,\n",
        "    'calc_stats':False,\n",
        "    'inference_type':'mimic'\n",
        "}\n",
        "\n",
        "example = {\n",
        "    'subject_dna_seq':'AAA GCG GCT GTA CTG GTC AAG AAA GTT CTG GAA TCT GCC ATT GCT AAC GCT GAA CAC AAC GAT GGC GCT GAC ATT GAC GAT CTG AAA GTT ACG AAA ATT TTC GTA GAC GAA GGC CCG AGC ATG AAG CGC ATT ATG CCG CGT GCA AAA GGT CGT GCA GAT CGC ATC CTG AAG CGC ACC AGC CAC ATC ACT GTG GTT GTG TCC GAT CGC',\n",
        "    'qseq':'KSVKFVQGLLQNAAANAEA-KGLDATKLYVSHIQVNQAPKQRRRTYRAHGRINKYESSPSHIELVVTEK',\n",
        "    'query_species':'S_cerevisiae',\n",
        "    'subject_species':'E_coli',\n",
        "    'expr':'expr_top10'\n",
        "}\n",
        "\n",
        "assert(len(example['qseq'])==len(example['subject_dna_seq'].split(\" \")))\n",
        "res = json.dumps(predict(config, example, mask_restrict_dict, tokenizer, model),indent=2)\n",
        "print(res)\n"
      ],
      "metadata": {
        "colab": {
          "base_uri": "https://localhost:8080/"
        },
        "id": "bJdsHphO1OUE",
        "outputId": "176490d3-47e3-4ab5-97d8-70f768fbd742"
      },
      "execution_count": null,
      "outputs": [
        {
          "output_type": "stream",
          "name": "stdout",
          "text": [
            "{\n",
            "  \"prot_len\": 69,\n",
            "  \"prot_AAs\": \"KSVKFVQGLLQNAAANAEA-KGLDATKLYVSHIQVNQAPKQRRRTYRAHGRINKYESSPSHIELVVTEK\",\n",
            "  \"pred_codons\": \"AAG TCT GTT AAG TTT GTT CAA GGT TTG TTG CAA AAC GCT GCT GCT AAC GCT GAA GCT <gap> AAG GGT TTG GAT GCT ACC AAG TTG TAC GTT TCT CAC ATT CAA GTC AAC CAA GCT CCA AAG CAA AGA AGA AGA ACT TAC AGA GCT CAC GGT AGA ATC AAC AAG TAC GAA TCT TCT CCA TCT CAC ATT GAA TTG GTT GTT ACT GAA AAG\",\n",
            "  \"entropy\": 0.7021335959434509\n",
            "}\n"
          ]
        }
      ]
    },
    {
      "cell_type": "markdown",
      "source": [
        "## **Example 2 - mimic codon sequence generation with statistics**\n",
        "\n",
        "This inference enables you to calculate the accuracy and loss for a specific codon sequence. In addition with the amino-acid sequence of the protein target, you are required to insert the codon sequence of the translated protein."
      ],
      "metadata": {
        "id": "EnEYcp5Fj8ux"
      }
    },
    {
      "cell_type": "code",
      "source": [
        "config = {\n",
        "    'sw_aa_size':50,\n",
        "    'calc_stats':True,\n",
        "    'inference_type':'mimic'\n",
        "}\n",
        "\n",
        "example = {\n",
        "    'query_dna_seq':  'AAA TCT GTT AAG TTC GTT CAA GGT TTG TTG CAA AAC GCC GCT GCC AAT GCT GAA GCT <gap> AAG GGT CTA GAT GCT ACC AAG TTG TAC GTT TCT CAC ATC CAA GTT AAC CAA GCA CCA AAG CAA AGA AGA AGA ACT TAC AGA GCC CAC GGT AGA ATC AAC AAG TAC GAA TCT TCT CCA TCT CAC ATT GAA TTG GTT GTT ACC GAA AAG',\n",
        "    'subject_dna_seq':'AAA GCG GCT GTA CTG GTC AAG AAA GTT CTG GAA TCT GCC ATT GCT AAC GCT GAA CAC AAC GAT GGC GCT GAC ATT GAC GAT CTG AAA GTT ACG AAA ATT TTC GTA GAC GAA GGC CCG AGC ATG AAG CGC ATT ATG CCG CGT GCA AAA GGT CGT GCA GAT CGC ATC CTG AAG CGC ACC AGC CAC ATC ACT GTG GTT GTG TCC GAT CGC',\n",
        "    'qseq':'KSVKFVQGLLQNAAANAEA-KGLDATKLYVSHIQVNQAPKQRRRTYRAHGRINKYESSPSHIELVVTEK',\n",
        "    'query_species':'S_cerevisiae',\n",
        "    'subject_species':'E_coli',\n",
        "    'expr':'expr_top10'\n",
        "}\n",
        "\n",
        "assert(len(example['qseq'])==len(example['query_dna_seq'].split(\" \")))\n",
        "assert(len(example['qseq'])==len(example['subject_dna_seq'].split(\" \")))\n",
        "res = json.dumps(predict(config, example, mask_restrict_dict, tokenizer, model),indent=2)\n",
        "print(res)"
      ],
      "metadata": {
        "id": "2KsYj_gaJ8ed",
        "colab": {
          "base_uri": "https://localhost:8080/"
        },
        "outputId": "24911678-f4cf-4e91-b022-3378b84f9e93"
      },
      "execution_count": null,
      "outputs": [
        {
          "output_type": "stream",
          "name": "stdout",
          "text": [
            "{\n",
            "  \"prot_len\": 69,\n",
            "  \"prot_AAs\": \"KSVKFVQGLLQNAAANAEA-KGLDATKLYVSHIQVNQAPKQRRRTYRAHGRINKYESSPSHIELVVTEK\",\n",
            "  \"pred_codons\": \"AAG TCT GTT AAG TTT GTT CAA GGT TTG TTG CAA AAC GCT GCT GCT AAC GCT GAA GCT <gap> AAG GGT TTG GAT GCT ACC AAG TTG TAC GTT TCT CAC ATT CAA GTC AAC CAA GCT CCA AAG CAA AGA AGA AGA ACT TAC AGA GCT CAC GGT AGA ATC AAC AAG TAC GAA TCT TCT CCA TCT CAC ATT GAA TTG GTT GTT ACT GAA AAG\",\n",
            "  \"entropy\": 0.7021335959434509,\n",
            "  \"subject_codons\": \"AAA GCG GCT GTA CTG GTC AAG AAA GTT CTG GAA TCT GCC ATT GCT AAC GCT GAA CAC AAC GAT GGC GCT GAC ATT GAC GAT CTG AAA GTT ACG AAA ATT TTC GTA GAC GAA GGC CCG AGC ATG AAG CGC ATT ATG CCG CGT GCA AAA GGT CGT GCA GAT CGC ATC CTG AAG CGC ACC AGC CAC ATC ACT GTG GTT GTG TCC GAT CGC\",\n",
            "  \"num_of_correct_predicted_codons\": 57,\n",
            "  \"query_codons\": \"AAA TCT GTT AAG TTC GTT CAA GGT TTG TTG CAA AAC GCC GCT GCC AAT GCT GAA GCT <gap> AAG GGT CTA GAT GCT ACC AAG TTG TAC GTT TCT CAC ATC CAA GTT AAC CAA GCA CCA AAG CAA AGA AGA AGA ACT TAC AGA GCC CAC GGT AGA ATC AAC AAG TAC GAA TCT TCT CCA TCT CAC ATT GAA TTG GTT GTT ACC GAA AAG\",\n",
            "  \"cross_entropy_loss\": 0.5106220245361328,\n",
            "  \"perplexity\": 1.6663273691584313,\n",
            "  \"accuracy\": 0.8260869565217391\n",
            "}\n"
          ]
        }
      ]
    },
    {
      "cell_type": "markdown",
      "source": [
        "## **Example 3 - mask codon sequence generation**\n",
        "\n",
        "This inference enables you to calculate the accuracy and loss for a specific codon sequence. In addition with the amino-acid sequence of the protein target, you are required to insert the codon sequence of the translated protein."
      ],
      "metadata": {
        "id": "7GCITywyldg0"
      }
    },
    {
      "cell_type": "code",
      "source": [
        "config = {\n",
        "    'sw_aa_size':50,\n",
        "    'calc_stats':False,\n",
        "    'inference_type':'mask'\n",
        "\n",
        "}\n",
        "\n",
        "example = {\n",
        "    'qseq':'KSVKFVQGLLQNAAANAEA-KGLDATKLYVSHIQVNQAPKQRRRTYRAHGRINKYESSPSHIELVVTEK',\n",
        "    'query_species':'S_cerevisiae',\n",
        "    'expr':'expr_top10'\n",
        "}\n",
        "\n",
        "res = json.dumps(predict(config, example, mask_restrict_dict, tokenizer, model),indent=2)\n",
        "print(res)\n"
      ],
      "metadata": {
        "colab": {
          "base_uri": "https://localhost:8080/"
        },
        "id": "OtKiKtfbQ6eE",
        "outputId": "ed7bc150-b005-44b4-c9bd-35de5dc284fc"
      },
      "execution_count": null,
      "outputs": [
        {
          "output_type": "stream",
          "name": "stdout",
          "text": [
            "{\n",
            "  \"prot_len\": 69,\n",
            "  \"prot_AAs\": \"KSVKFVQGLLQNAAANAEA-KGLDATKLYVSHIQVNQAPKQRRRTYRAHGRINKYESSPSHIELVVTEK\",\n",
            "  \"pred_codons\": \"AAG TCT GTT AAG TTC GTT CAA GGT TTG TTG CAA AAC GCT GCT GCT AAC GCT GAA GCT <gap> AAG GGT TTG GAT GCT ACC AAG TTG TAC GTT TCT CAC ATT CAA GTC AAC CAA GCT CCA AAG CAA AGA AGA AGA ACT TAC AGA GCT CAC GGT AGA ATC AAC AAG TAC GAA TCT TCT CCA TCT CAC ATT GAA TTG GTT GTT ACT GAA AAG\",\n",
            "  \"entropy\": 0.66972815990448\n",
            "}\n"
          ]
        }
      ]
    }
  ]
}